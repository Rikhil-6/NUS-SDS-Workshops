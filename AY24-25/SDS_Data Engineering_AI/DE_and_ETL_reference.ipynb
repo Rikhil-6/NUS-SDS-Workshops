{
  "cells": [
    {
      "cell_type": "code",
      "execution_count": 1,
      "metadata": {
        "id": "MTRvObE8KGQy"
      },
      "outputs": [],
      "source": [
        "import boto3\n",
        "import pandas as pd\n",
        "import io\n",
        "from botocore import UNSIGNED\n",
        "from botocore.config import Config\n",
        "import matplotlib.pyplot as plt"
      ]
    },
    {
      "cell_type": "markdown",
      "metadata": {},
      "source": [
        "## **Data Engineering**\n",
        "\n",
        "Data Engineering involves the collection, transformation, and management of data to facilitate analytics and machine learning applications. \n",
        "In this notebook, data engineering principles are applied to extract and process genomic data stored in AWS S3.\n",
        "\n",
        "Key components covered in this notebook include:\n",
        "\n",
        "- Data Extraction from AWS S3: The dataset is retrieved using Boto3, allowing anonymous access to S3 buckets.\n",
        "\n",
        "- Data Processing: The extracted GTF data follows a structured format with standardized columns such as seqname, source, feature, start, end, score, strand, and frame. This structure ensures consistency and usability in downstream analysis.\n",
        "\n",
        "- Transformation & Visualization: The dataset is processed using Pandas, and key insights are visualized using Matplotlib. This step is crucial for understanding data distributions and patterns."
      ]
    },
    {
      "cell_type": "code",
      "execution_count": 2,
      "metadata": {
        "id": "wqtn0Rh6ig-8"
      },
      "outputs": [],
      "source": [
        "# Connect to S3 anonymously\n",
        "s3 = boto3.client('s3', config=Config(signature_version=UNSIGNED))"
      ]
    },
    {
      "cell_type": "code",
      "execution_count": 3,
      "metadata": {
        "id": "Ind45H5rXQ9s"
      },
      "outputs": [],
      "source": [
        "def load_gtf_data(bucket_name, file_key): # Load in the information using bucket and key information on AWS\n",
        "    try:\n",
        "        response = s3.get_object(Bucket=bucket_name, Key=file_key)\n",
        "        gtf_data = response['Body'].read().decode('utf-8')\n",
        "        return gtf_data\n",
        "    except Exception as e:\n",
        "        print(f\"Error fetching data from S3: {e}\")\n",
        "        return None"
      ]
    },
    {
      "cell_type": "markdown",
      "metadata": {
        "id": "1OO9NfIzrgb5"
      },
      "source": [
        "The GTF data has the following standardised column names together with their attributes\n",
        "\n",
        "1. `seqname`: Name of the sequence (e.g., chromosome).\n",
        "2. `source`: Source of the annotation (e.g., a specific database or tool).\n",
        "3. `feature`: Type of feature (e.g., gene, exon).\n",
        "4. `start`: Start position of the feature.\n",
        "5. `end`: End position of the feature.\n",
        "6. `score`: Score associated with the feature (often a placeholder).\n",
        "7. `strand`: Strand of the feature (+ or -).\n",
        "8. `frame`: Reading frame (0, 1, 2).\n",
        "9. `attribute`: Additional attributes in a key-value format."
      ]
    },
    {
      "cell_type": "code",
      "execution_count": 4,
      "metadata": {
        "id": "gVnQoJqikp-e"
      },
      "outputs": [],
      "source": [
        "def parse_gtf_data(gtf_data): # Retrieve the relevant data and Load it Locally into a csv file\n",
        "    col_names = [\n",
        "        \"seqname\", \"source\", \"feature\", \"start\", \"end\",\n",
        "        \"score\", \"strand\", \"frame\", \"attribute\"\n",
        "    ]\n",
        "    gtf_df = pd.read_csv(io.StringIO(gtf_data), sep=\"\\t\", comment=\"#\", names=col_names)\n",
        "    # The io library in Python allows for the quick (and even memoryless) retrieval of relevant data through boto's response\n",
        "    return gtf_df"
      ]
    },
    {
      "cell_type": "code",
      "execution_count": 5,
      "metadata": {
        "id": "ArBaKDo3kqyZ"
      },
      "outputs": [],
      "source": [
        "def filter_genes(gtf_df): # Attain the features of interest and get the relevant ID base information\n",
        "  genes_df = gtf_df[gtf_df[\"feature\"] == \"gene\"].copy()\n",
        "  genes_df[\"gene_id\"] = genes_df[\"attribute\"].str.extract('gene_id \"([^\"]+)\"')\n",
        "  return genes_df"
      ]
    },
    {
      "cell_type": "code",
      "execution_count": 6,
      "metadata": {
        "id": "mBt5qm_io-rw"
      },
      "outputs": [],
      "source": [
        "def extract_attributes(df):\n",
        "    df['attribute'] = df['attribute'].astype(str)\n",
        "    df['gene_name'] = df['attribute'].str.extract('gene_name \"([^\"]+)\"')\n",
        "    df['gene_biotype'] = df['attribute'].str.extract('gene_biotype \"([^\"]+)\"')\n",
        "    return df"
      ]
    },
    {
      "cell_type": "code",
      "execution_count": 7,
      "metadata": {
        "id": "MvVY2hWRjw_H"
      },
      "outputs": [],
      "source": [
        "def clean_data(df): # For removal of missing data/ repeated values\n",
        "    df.drop_duplicates(inplace=True)\n",
        "    df.fillna(method='ffill', inplace=True)\n",
        "    return df"
      ]
    },
    {
      "cell_type": "code",
      "execution_count": 8,
      "metadata": {
        "id": "7Bx29ccLpEF1"
      },
      "outputs": [],
      "source": [
        "def normalize_data(df): # To normalise/ standardise values to a reasonable magnitude\n",
        "    df['start_norm'] = (df['start'] - df['start'].min()) / (df['start'].max() - df['start'].min())\n",
        "    df['end_norm'] = (df['end'] - df['end'].min()) / (df['end'].max() - df['end'].min())\n",
        "    return df"
      ]
    },
    {
      "cell_type": "code",
      "execution_count": 9,
      "metadata": {
        "id": "i-kp7VTtnb1T"
      },
      "outputs": [],
      "source": [
        "def validate_data(df):\n",
        "    print(\"Missing values:\\n\", df.isnull().sum())\n",
        "    print(\"\\nData types:\\n\", df.dtypes)\n",
        "    print(\"\\nUnique values in 'feature':\\n\", df['feature'].unique())\n",
        "    print(\"\\nRange of 'start' and 'end':\\n\", df[['start', 'end']].agg(['min', 'max']))"
      ]
    },
    {
      "cell_type": "code",
      "execution_count": 10,
      "metadata": {
        "id": "1vbaKRT8j3im"
      },
      "outputs": [],
      "source": [
        "def aggregate_data(df): # Group data together by specific biotypes\n",
        "    agg_df = df.groupby('gene_biotype').agg({\n",
        "        'start': ['mean', 'median'],\n",
        "        'end': ['mean', 'median']\n",
        "    }).reset_index()\n",
        "    print(\"Aggregated data for:\\n\", agg_df)\n",
        "    return agg_df"
      ]
    },
    {
      "cell_type": "code",
      "execution_count": 11,
      "metadata": {
        "id": "C3VHGJ-mnfC3"
      },
      "outputs": [],
      "source": [
        "def explore_data(df): # Visualise useful information from the dataframe\n",
        "    print(\"Summary statistics:\\n\", df.describe())\n",
        "    df['feature'].value_counts().plot(kind='bar')\n",
        "    plt.title('Distribution of Features')\n",
        "    plt.xlabel('Feature')\n",
        "    plt.ylabel('Count')\n",
        "    plt.show()"
      ]
    },
    {
      "cell_type": "code",
      "execution_count": 12,
      "metadata": {
        "id": "j82V3loxnoBx"
      },
      "outputs": [],
      "source": [
        "def filter_long_genes(genes_df, min_length=1000):\n",
        "    genes_df['length'] = genes_df['end'] - genes_df['start']\n",
        "    long_genes_df = genes_df[genes_df['length'] > min_length]\n",
        "    return long_genes_df"
      ]
    },
    {
      "cell_type": "code",
      "execution_count": 13,
      "metadata": {
        "id": "OIAWOVPtntUK"
      },
      "outputs": [],
      "source": [
        "def save_data(df, filename):\n",
        "    df.to_csv(filename, index=False)\n",
        "    print(f\"Data saved as '{filename}'\")"
      ]
    },
    {
      "cell_type": "code",
      "execution_count": 14,
      "metadata": {
        "colab": {
          "base_uri": "https://localhost:8080/",
          "height": 1000
        },
        "id": "s07-3k60nxgk",
        "outputId": "6d696184-315f-4bb8-a9f8-53ce51296e1e"
      },
      "outputs": [
        {
          "name": "stderr",
          "output_type": "stream",
          "text": [
            "C:\\Users\\Acer\\AppData\\Local\\Temp\\ipykernel_11620\\510829228.py:3: FutureWarning: DataFrame.fillna with 'method' is deprecated and will raise in a future version. Use obj.ffill() or obj.bfill() instead.\n",
            "  df.fillna(method='ffill', inplace=True)\n"
          ]
        },
        {
          "name": "stdout",
          "output_type": "stream",
          "text": [
            "Missing values:\n",
            " seqname      0\n",
            "source       0\n",
            "feature      0\n",
            "start        0\n",
            "end          0\n",
            "score        0\n",
            "strand       0\n",
            "frame        0\n",
            "attribute    0\n",
            "dtype: int64\n",
            "\n",
            "Data types:\n",
            " seqname       int64\n",
            "source       object\n",
            "feature      object\n",
            "start         int64\n",
            "end           int64\n",
            "score        object\n",
            "strand       object\n",
            "frame        object\n",
            "attribute    object\n",
            "dtype: object\n",
            "\n",
            "Unique values in 'feature':\n",
            " ['gene' 'transcript' 'exon' 'CDS' 'start_codon' 'stop_codon'\n",
            " 'five_prime_utr' 'three_prime_utr' 'Selenocysteine']\n",
            "\n",
            "Range of 'start' and 'end':\n",
            "         start       end\n",
            "min  10736171  10736283\n",
            "max  50798655  50801309\n",
            "Summary statistics:\n",
            "        seqname         start           end\n",
            "count  56380.0  5.638000e+04  5.638000e+04\n",
            "mean      22.0  3.295143e+07  3.295383e+07\n",
            "std        0.0  9.935497e+06  9.935500e+06\n",
            "min       22.0  1.073617e+07  1.073628e+07\n",
            "25%       22.0  2.400408e+07  2.400536e+07\n",
            "50%       22.0  3.160633e+07  3.160803e+07\n",
            "75%       22.0  4.077901e+07  4.078021e+07\n",
            "max       22.0  5.079866e+07  5.080131e+07\n"
          ]
        },
        {
          "data": {
            "image/png": "[encoded data removed]",
            "text/plain": [
              "<Figure size 640x480 with 1 Axes>"
            ]
          },
          "metadata": {},
          "output_type": "display_data"
        },
        {
          "name": "stdout",
          "output_type": "stream",
          "text": [
            "Aggregated data for:\n",
            "                           gene_biotype         start              \\\n",
            "                                                mean      median   \n",
            "0                            IG_C_gene  2.290632e+07  22903659.0   \n",
            "1                      IG_C_pseudogene  2.666052e+07  22919535.0   \n",
            "2                            IG_J_gene  2.290891e+07  22910574.0   \n",
            "3                            IG_V_gene  2.251145e+07  22431958.0   \n",
            "4                      IG_V_pseudogene  2.211462e+07  22425821.0   \n",
            "5                                  TEC  3.901155e+07  41781320.5   \n",
            "6                        antisense_RNA  3.346153e+07  32783177.0   \n",
            "7                              lincRNA  3.200090e+07  30976515.0   \n",
            "8                                miRNA  3.318420e+07  32529024.5   \n",
            "9                             misc_RNA  3.006405e+07  28473366.5   \n",
            "10              polymorphic_pseudogene  3.306013e+07  33060130.5   \n",
            "11                processed_pseudogene  2.871366e+07  25647261.0   \n",
            "12                processed_transcript  2.684705e+07  23634552.5   \n",
            "13                      protein_coding  3.361376e+07  35606764.0   \n",
            "14                                rRNA  2.484808e+07  26052854.0   \n",
            "15                              scaRNA  2.051335e+07  21389796.0   \n",
            "16                      sense_intronic  2.980101e+07  29316744.0   \n",
            "17                   sense_overlapping  3.751287e+07  37876148.0   \n",
            "18                               snRNA  3.209709e+07  31434058.0   \n",
            "19                              snoRNA  3.175246e+07  33704786.0   \n",
            "20    transcribed_processed_pseudogene  2.615596e+07  21146704.5   \n",
            "21      transcribed_unitary_pseudogene  3.180499e+07  31804988.0   \n",
            "22  transcribed_unprocessed_pseudogene  2.350261e+07  21103016.0   \n",
            "23                  unitary_pseudogene  2.062820e+07  21661242.0   \n",
            "24              unprocessed_pseudogene  2.257823e+07  22155582.0   \n",
            "\n",
            "             end              \n",
            "            mean      median  \n",
            "0   2.290678e+07  22904120.0  \n",
            "1   2.666082e+07  22919851.0  \n",
            "2   2.290901e+07  22910606.0  \n",
            "3   2.251678e+07  22432465.0  \n",
            "4   2.211502e+07  22426314.0  \n",
            "5   3.901341e+07  41783877.0  \n",
            "6   3.347088e+07  32784982.0  \n",
            "7   3.201177e+07  30977858.0  \n",
            "8   3.318428e+07  32529100.0  \n",
            "9   3.006426e+07  28473560.0  \n",
            "10  3.306425e+07  33064246.0  \n",
            "11  2.871461e+07  25649232.0  \n",
            "12  2.687692e+07  23678144.0  \n",
            "13  3.365999e+07  35637951.0  \n",
            "14  2.484819e+07  26052972.5  \n",
            "15  2.051349e+07  21389938.0  \n",
            "16  2.980459e+07  29317220.0  \n",
            "17  3.754686e+07  37895563.0  \n",
            "18  3.209719e+07  31434163.0  \n",
            "19  3.175256e+07  33704920.0  \n",
            "20  2.617957e+07  21160941.0  \n",
            "21  3.180998e+07  31809977.0  \n",
            "22  2.352673e+07  21122285.0  \n",
            "23  2.062901e+07  21661295.0  \n",
            "24  2.258327e+07  22155942.0  \n",
            "Data saved as 'data/filtered_chr22_genes.csv'\n",
            "Data saved as 'data/long_chr22_genes.csv'\n"
          ]
        }
      ],
      "source": [
        "# Main pipeline\n",
        "bucket_name = \"sg-nex-data\"\n",
        "file_key = \"data/data_tutorial/annotations/hg38_chr22.gtf\"\n",
        "\n",
        "gtf_data = load_gtf_data(bucket_name, file_key)\n",
        "if gtf_data:\n",
        "    gtf_df = parse_gtf_data(gtf_data)\n",
        "    gtf_df = clean_data(gtf_df)\n",
        "    validate_data(gtf_df)\n",
        "    explore_data(gtf_df)\n",
        "    genes_df = filter_genes(gtf_df)\n",
        "    genes_df = extract_attributes(genes_df)\n",
        "    genes_df = normalize_data(genes_df)\n",
        "    agg_df = aggregate_data(genes_df)\n",
        "    long_genes_df = filter_long_genes(genes_df)\n",
        "    save_data(genes_df, f\"data/filtered_chr22_genes.csv\")\n",
        "    save_data(long_genes_df, f\"data/long_chr22_genes.csv\")"
      ]
    },
    {
      "cell_type": "markdown",
      "metadata": {},
      "source": [
        "## **Conclusion**\n",
        "\n",
        "We hope to present this as a testament to the power of modern data engineering. By seamlessly integrating cloud-based storage, efficient retrieval strategies, and structured data transformations, we unlock the potential hidden within various datasets. \n",
        "\n",
        "The techniques showcased here lay the groundwork for further analytics and machine learning to be performed, pushing the boundaries of what’s possible in genomic research and beyond. With the right tools and methodologies, data engineers wield the power to turn raw information into groundbreaking discoveries."
      ]
    }
  ],
  "metadata": {
    "colab": {
      "provenance": []
    },
    "kernelspec": {
      "display_name": "Python 3",
      "name": "python3"
    },
    "language_info": {
      "codemirror_mode": {
        "name": "ipython",
        "version": 3
      },
      "file_extension": ".py",
      "mimetype": "text/x-python",
      "name": "python",
      "nbconvert_exporter": "python",
      "pygments_lexer": "ipython3",
      "version": "3.11.9"
    }
  },
  "nbformat": 4,
  "nbformat_minor": 0
}
