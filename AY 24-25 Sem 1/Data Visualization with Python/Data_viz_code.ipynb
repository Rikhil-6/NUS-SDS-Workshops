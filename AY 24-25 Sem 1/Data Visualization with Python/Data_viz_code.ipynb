{
  "cells": [
    {
      "cell_type": "code",
      "execution_count": 62,
      "metadata": {
        "id": "9LQAVUDxW5KO"
      },
      "outputs": [],
      "source": [
        "import warnings \n",
        "warnings.filterwarnings(\"ignore\")"
      ]
    },
    {
      "cell_type": "markdown",
      "metadata": {},
      "source": [
        "# **Data Visualization With Python**\n",
        "\n",
        "## Downloading and viewing the data\n",
        "\n",
        "Firstly, we start off with reading the file. We shall do that with the library pandas.\n",
        "\n",
        "Step 1: Import Pandas (the library should be installed upon running the ```pip install -r requirements.txt``` command in your terminal. If it isn't, try to refresh your jupyter notebook or [refer to the following guide](https://www.geeksforgeeks.org/how-to-install-python-pandas-on-windows-and-linux/) to install it.)\n",
        "\n",
        "\n",
        "\n",
        "Step 2: Read the file by running the line of code: pd.read_excel(filename), where filename is the name of the excel file, ending with \".xlsx\"\n",
        "\n",
        "\n",
        "Step 3: Check that the file has been read properly - this can be done by printing the result. If you see a bunch of data that means it is read properly."
      ]
    },
    {
      "cell_type": "code",
      "execution_count": null,
      "metadata": {
        "colab": {
          "base_uri": "https://localhost:8080/"
        },
        "id": "9WszGO5ukIf7",
        "outputId": "5011a748-e856-48c8-d0bc-7557ae177568"
      },
      "outputs": [],
      "source": [
        "# Step 1: Import Pandas Library\n",
        "import pandas as pd\n",
        "\n",
        "# Step 2: Read File\n",
        "cars_data = pd.read_excel(\"Cars_below_50k_v2_11-12-2023.xlsx\")\n",
        "\n",
        "# Step 3: Check that file is read properly\n",
        "print(cars_data.head())"
      ]
    },
    {
      "cell_type": "markdown",
      "metadata": {
        "id": "8x8wIcv2ZDnd"
      },
      "source": [
        "# **Bar Chart with Matplotlib**"
      ]
    },
    {
      "cell_type": "markdown",
      "metadata": {
        "id": "hA_YQLyeYeio"
      },
      "source": [
        "Next, we shall try to make a bar graph through the matplotlib library. \n",
        "\n",
        "Matplotlib is a commonly used library used to produce simple data visualisations in Python."
      ]
    },
    {
      "cell_type": "code",
      "execution_count": null,
      "metadata": {
        "colab": {
          "base_uri": "https://localhost:8080/",
          "height": 639
        },
        "id": "wYyvtHV_FUh-",
        "outputId": "91ba98b0-17d3-4da5-8334-04e761f27097"
      },
      "outputs": [],
      "source": [
        "import matplotlib.pyplot as plt\n",
        "\n",
        "# Calculates the average price for each car type and casts it into a new dataframe\n",
        "average_price_df = cars_data.groupby('Car_type')['Price'].mean().reset_index()\n",
        "\n",
        "# Plots the bar chart for average prices based on each car type\n",
        "plt.bar(average_price_df['Car_type'], average_price_df['Price'], color='skyblue')\n",
        "\n",
        "plt.title('Average Price vs Car Type') # Creates the title of the figure\n",
        "plt.xlabel('Car Type') # labels the x axis of the figure\n",
        "plt.ylabel('Average Price') # labels the y axis of the figure\n",
        "\n",
        "plt.xticks(rotation=45) # rotates the x-ticks (names of each car) 45 degrees to allow for space\n",
        "plt.show()\n",
        "\n",
        "# Identify the highest and lowest average prices\n",
        "highest_avg_price = average_price_df[average_price_df[\"Price\"]==average_price_df[\"Price\"].max()]\n",
        "lowest_avg_price = average_price_df[average_price_df[\"Price\"]==average_price_df[\"Price\"].min()]\n",
        "\n",
        "print(f\"Highest Average Price is for the {highest_avg_price.values[0][0]} at: ${highest_avg_price.values[0][1]:.2f}\")\n",
        "print(f\"Lowest Average Price is for the {lowest_avg_price.values[0][0]} at : ${lowest_avg_price.values[0][1]:.2f}\")"
      ]
    },
    {
      "cell_type": "markdown",
      "metadata": {
        "id": "dAr0BX8aZYiF"
      },
      "source": [
        "# **Line Graph with Matplotlib**"
      ]
    },
    {
      "cell_type": "code",
      "execution_count": null,
      "metadata": {
        "colab": {
          "base_uri": "https://localhost:8080/",
          "height": 564
        },
        "id": "P_ai86_raoJy",
        "outputId": "6178626a-8f98-41e2-88ba-6badbdb179a2"
      },
      "outputs": [],
      "source": [
        "plt.figure(figsize=(20, 12)) # Create a figure object (base template)\n",
        "price_by_reg_year = cars_data.groupby('Reg_year')['Price'].mean() # Gets the Mean Price of Cars Based on Year of Registration\n",
        "\n",
        "plt.plot(price_by_reg_year,marker='o',color='green') # plot mean price by registration year; circular marker in green\n",
        "plt.title('Average Car Price Over Registration Years') # set title of plot\n",
        "plt.xlabel('Registration Year') # set x axis label of plot\n",
        "plt.ylabel('Average Price') # set y axis label of plot\n",
        "\n",
        "plt.grid(True) # additional method that can be set to true if you want to see the background grid -> can change to False to see diff\n",
        "plt.show()"
      ]
    },
    {
      "cell_type": "markdown",
      "metadata": {
        "id": "0yDZJAJi6ECX"
      },
      "source": [
        "# **Scatter Plot with Pandas**\n",
        "\n",
        "In Pandas, plots can be made virtually instantly through the ```.plot()``` method which can be called on dataframes. By default, this method created a line plot but also supports visualisations like histograms, bar charts, scatter plots and more! Furthermore, as pandas is built atop matplotlib for Data Visualization Techniques -> working with such plots is very similar to; and indeed can include, matplotlib on the side."
      ]
    },
    {
      "cell_type": "code",
      "execution_count": null,
      "metadata": {
        "colab": {
          "base_uri": "https://localhost:8080/",
          "height": 489
        },
        "id": "XDnURYm5bQQx",
        "outputId": "dce7ee5c-7ed3-49dc-8621-66afe3e0ffba"
      },
      "outputs": [],
      "source": [
        "cars_data.plot(x = 'Car_weight_kg', y= 'Engine_cap_cc', kind = 'scatter') # .plot method invoked on dataframe\n",
        "# x axis is weight of car, y axis is engine capacity -> kind is set to scatterplot\n",
        "plt.title('Car Weight vs Engine Capacity')\n",
        "plt.xlabel('Car Weight (kg)')\n",
        "plt.ylabel('Engine Capacity (cc)')"
      ]
    },
    {
      "cell_type": "markdown",
      "metadata": {
        "id": "b82aanrORWhm"
      },
      "source": [
        "# **Pie Chart with Pandas**\n",
        "\n",
        "Step 1: Count the occurrences of each unique car type using .value_counts().\n",
        "\n",
        "Step 2: Plot the pie chart using .plot.pie() on the car_type_counts data\n",
        "\n",
        "Step 3: Customize title and y-axis label.\n",
        "\n",
        "Step 4: Display the pie chart using plt.show()."
      ]
    },
    {
      "cell_type": "code",
      "execution_count": null,
      "metadata": {
        "colab": {
          "base_uri": "https://localhost:8080/",
          "height": 428
        },
        "id": "fXCzVn1oRoDU",
        "outputId": "cfc6bfe3-eb3a-43f0-84b3-6a0fea611352"
      },
      "outputs": [],
      "source": [
        "# Step 1: Count the occurrences of each unique car type\n",
        "car_type_counts = cars_data['Car_type'].value_counts()  # value_counts: counts the number of occurrences of unique car types\n",
        "\n",
        "# Step 2: Plot the pie chart using the counted data\n",
        "car_type_counts.plot.pie(autopct='%1.1f%%')  # format to one decimal place percentage\n",
        "\n",
        "# Step 3: Customize title and y-axis label\n",
        "plt.title('Pie Chart of Car Types')\n",
        "plt.ylabel('')  # Hide the y-label\n",
        "\n",
        "# Step 4: Display the pie chart\n",
        "plt.show()"
      ]
    },
    {
      "cell_type": "markdown",
      "metadata": {
        "id": "of2Svq02QMIT"
      },
      "source": [
        "# **Histogram with Seaborn**\n",
        "\n",
        "Seaborn is another Data Visualization Library used by Data Analysts and Scientists. It is well known for its more aesthetic plot outputs compared to matplotlib for a relatively comparable coding experience. Seaborn also allows for plots that would generally require a lot of code and layering in matplotlib to be run fairly easily. There are some benefits to using Seaborn (and Matplotlib) for plotting, which we will explore here."
      ]
    },
    {
      "cell_type": "code",
      "execution_count": null,
      "metadata": {
        "colab": {
          "base_uri": "https://localhost:8080/",
          "height": 472
        },
        "id": "ceDGEBGfEU-Z",
        "outputId": "de08060c-6050-44ed-ba75-42fdd8b8a746"
      },
      "outputs": [],
      "source": [
        "# Step 1: Import seaborn and matplotlib\n",
        "import seaborn as sns\n",
        "import matplotlib.pyplot as plt\n",
        "\n",
        "# Step 2: Use sns.histplot() to generate a histogram with the variable you want to examine\n",
        "sns.histplot(cars_data['Price'], color='pink')\n",
        "\n",
        "# Step 3: Customize the title, x-axis label, and y-axis label\n",
        "plt.title('Histogram of Car Prices')\n",
        "plt.xlabel('Price')\n",
        "plt.ylabel('Frequency')\n",
        "\n",
        "# Step 4: Show plot\n",
        "plt.show()"
      ]
    },
    {
      "cell_type": "markdown",
      "metadata": {
        "id": "9V00bk0-Q_wT"
      },
      "source": [
        "## Try yourself: Histogram with Engine_cap_cc\n",
        "\n",
        "***(Your turn) What if we change the variable to Engine_cap_cc? Plot the histogram and share the insights that you found!***"
      ]
    },
    {
      "cell_type": "code",
      "execution_count": null,
      "metadata": {
        "colab": {
          "base_uri": "https://localhost:8080/",
          "height": 211
        },
        "id": "kJZmCWAiEeJ-",
        "outputId": "b28e095f-375e-420e-a45b-feaa2c08ee20"
      },
      "outputs": [],
      "source": [
        "# Step 1: Import seaborn and matplotlib\n",
        "import seaborn as sns\n",
        "import matplotlib.pyplot as plt\n",
        "print(cars_data.info())\n",
        "# Step 2: Use sns.histplot() to generate a histogram with the variable you want to examine\n",
        "sns.histplot(cars_data[\"_______\"], color=\"_____\") # For histograms, you can work on columns containing numerical datatypes\n",
        "# You can also feel free to change the color argument of the histogram; it is recommended to stick to basic colours like\n",
        "# blue/ black/ white/ red etc.\n",
        "\n",
        "# Step 3: Customize the title, x-axis label, and y-axis label\n",
        "plt.title('Histogram of __________')\n",
        "plt.xlabel(\"________\")\n",
        "plt.ylabel('Frequency')\n",
        "\n",
        "# Step 4: Show plot\n",
        "plt.show()"
      ]
    },
    {
      "cell_type": "markdown",
      "metadata": {
        "id": "LWcwFRxNaEOk"
      },
      "source": [
        "# **Boxplot with Seaborn**"
      ]
    },
    {
      "cell_type": "code",
      "execution_count": null,
      "metadata": {
        "colab": {
          "base_uri": "https://localhost:8080/",
          "height": 769
        },
        "id": "Ap_Ia3qYcWBD",
        "outputId": "d32c3746-a028-498e-848d-57ddc79faab4"
      },
      "outputs": [],
      "source": [
        "# Step 1: give a size for the figure (general area to plot in)\n",
        "plt.figure(figsize=(10, 6))\n",
        "\n",
        "# Step 2: create the boxplot\n",
        "sns.boxplot(x='Car_type', y='Price', data=cars_data, palette='cubehelix')\n",
        "\n",
        "# Step 3: customise the boxplot\n",
        "plt.title('Car Prices by Car Type')\n",
        "plt.xlabel('Car Type')\n",
        "plt.ylabel('Price')\n",
        "plt.xticks(rotation=45)\n",
        "\n",
        "#Step 4: show the boxplot\n",
        "plt.show()"
      ]
    },
    {
      "cell_type": "markdown",
      "metadata": {
        "id": "INs-jZwXaNfR"
      },
      "source": [
        "## Try yourself: Boxplot"
      ]
    },
    {
      "cell_type": "code",
      "execution_count": null,
      "metadata": {
        "colab": {
          "base_uri": "https://localhost:8080/",
          "height": 373
        },
        "collapsed": true,
        "id": "jb-Jutso-Ki1",
        "outputId": "9ff1a18a-8a80-4593-8b43-29b266627d47"
      },
      "outputs": [],
      "source": [
        "plt.figure(figsize=(10, 6)) # You can also change the figsize parameters to amend the size of your resulting plot\n",
        "\n",
        "filtered_data = cars_data[cars_data['Car_type'].isin([\"Sports\"])]\n",
        "print(filtered_data)\n",
        "\n",
        "sns.boxplot(y='____', data=filtered_data, palette='____') # Your boxplot should be on 1 numeric variable\n",
        "# Feel free to explore the list of palette options on seaborn here: https://seaborn.pydata.org/tutorial/color_palettes.html\n",
        "# You can choose to be Pastel/ Deep/ Bright !\n",
        "\n",
        "plt.title('Boxplot of Sports Car Prices')\n",
        "plt.ylabel('_____')\n",
        "plt.xticks(rotation=45)"
      ]
    },
    {
      "cell_type": "markdown",
      "metadata": {
        "id": "I55V2iuO5dDC"
      },
      "source": [
        "# **Heatmap with plotly**\n",
        "\n",
        "Finally, Plotly is an open source library that allows for interactive plotting in Python! Just like matplotlib and seaborn, plotly also allows for plots like line plots, scatter charts , heatmaps and histograms - but also allows them to be interactive and even 3D! Such plots, while slightly more computationally expensive, can allow for a more interesting way to analyse and present data to other groups of people and even to you yourself!"
      ]
    },
    {
      "cell_type": "code",
      "execution_count": null,
      "metadata": {
        "colab": {
          "base_uri": "https://localhost:8080/",
          "height": 542
        },
        "id": "kKnmW__l5bB3",
        "outputId": "08937a4b-3446-4ac3-c017-2fdb3b825048"
      },
      "outputs": [],
      "source": [
        "# Step 1: Import plotly.graph_objs\n",
        "import plotly.graph_objs as go\n",
        "\n",
        "# Step 2: Select the relevant columns for the heatmap\n",
        "selected_columns = cars_data[['Price', 'Car_weight_kg', 'Engine_cap_cc', 'Manufacture_date']]\n",
        "\n",
        "# Step 3: Calculate the correlation matrix for the selected columns\n",
        "correlation_matrix = selected_columns.corr()\n",
        "\n",
        "# Step 4: Creating the heatmap using go.Heatmap() and correlation matrix\n",
        "heatmap = go.Heatmap(\n",
        "    z=correlation_matrix.values,\n",
        "    x=correlation_matrix.columns,\n",
        "    y=correlation_matrix.index,\n",
        "    colorscale='Plasma'\n",
        ")\n",
        "\n",
        "# Step 5: Create a figure containing the heatmap, update the layout with a title, and display the heatmap\n",
        "fig = go.Figure(data=[heatmap])\n",
        "fig.update_layout(title='Heatmap of Selected Features')\n",
        "fig.show()"
      ]
    },
    {
      "cell_type": "markdown",
      "metadata": {
        "id": "Lmq81ufNa9wW"
      },
      "source": [
        "# **Radar Chart using Plotly**"
      ]
    },
    {
      "cell_type": "code",
      "execution_count": null,
      "metadata": {
        "colab": {
          "base_uri": "https://localhost:8080/",
          "height": 542
        },
        "id": "JFrssqntkIf8",
        "outputId": "c9f517d5-e17d-42a8-acf7-61e16d2f53ac"
      },
      "outputs": [],
      "source": [
        "import pandas as pd\n",
        "import numpy as np\n",
        "import plotly.graph_objects as go\n",
        "\n",
        "categories = ['Price', 'Engine_cap_cc', 'Car_weight_kg']\n",
        "car_types = cars_data['Car_type'].unique() # select all unique car types\n",
        "\n",
        "# Standardize the data by dividing each attribute by the mean of that attribute across all cars\n",
        "standardized_data = cars_data[categories].apply(lambda x: x / x.mean())\n",
        "\n",
        "# Radar chart data for each car type after standardization\n",
        "values_list = []\n",
        "for car_type in car_types:\n",
        "    values = standardized_data[cars_data['Car_type'] == car_type].mean().values\n",
        "    values = np.append(values, values[0])  # Close the radar chart\n",
        "    values_list.append(values)\n",
        "\n",
        "# Prepare the radar chart data for Plotly\n",
        "fig = go.Figure()\n",
        "\n",
        "# Generate the chart for each car type\n",
        "for values, car_type in zip(values_list, car_types):\n",
        "    fig.add_trace(go.Scatterpolar(\n",
        "        r=values,\n",
        "        theta=categories + [categories[0]],  # Close the radar chart\n",
        "        fill='toself',\n",
        "        name=car_type\n",
        "    ))\n",
        "\n",
        "# Update layout for better visualization\n",
        "fig.update_layout(\n",
        "    polar=dict(\n",
        "        radialaxis=dict(visible=True, range=[0, 2.0])  # Set range to keep shapes within the circle\n",
        "    ),\n",
        "    title=\"Comparison of Car Types (Standardized)\",\n",
        "    showlegend=True\n",
        ")\n",
        "\n",
        "# Show the plot\n",
        "fig.show()"
      ]
    },
    {
      "cell_type": "markdown",
      "metadata": {
        "id": "5IXJOWqU-HLG"
      },
      "source": [
        "# **Map using Plotly**"
      ]
    },
    {
      "cell_type": "markdown",
      "metadata": {
        "id": "cBkGxyIs-JZh"
      },
      "source": [
        "**Creating a new dataset**"
      ]
    },
    {
      "cell_type": "code",
      "execution_count": null,
      "metadata": {
        "colab": {
          "base_uri": "https://localhost:8080/"
        },
        "id": "caCP0GkekIf9",
        "outputId": "11782ae0-896a-45e4-e9db-d61a54ae64c1"
      },
      "outputs": [],
      "source": [
        "# Sample data: cities with their latitude, longitude, and population\n",
        "data = {\n",
        "    'City': ['New York', 'Los Angeles', 'Chicago', 'Houston', 'Phoenix'],\n",
        "    'Latitude': [40.7128, 34.0522, 41.8781, 29.7604, 33.4484],\n",
        "    'Longitude': [-74.0060, -118.2437, -87.6298, -95.3698, -112.0740],\n",
        "    'Population': [8419000, 3980400, 2716000, 2328000, 1690000]\n",
        "}\n",
        "\n",
        "# Creating a pandas DataFrame\n",
        "cities_data = pd.DataFrame(data)\n",
        "print(cities_data)"
      ]
    },
    {
      "cell_type": "markdown",
      "metadata": {
        "id": "rOGn4ZUc-QTo"
      },
      "source": [
        "**Plotting a map**"
      ]
    },
    {
      "cell_type": "code",
      "execution_count": null,
      "metadata": {
        "colab": {
          "base_uri": "https://localhost:8080/",
          "height": 542
        },
        "id": "Y4C3zS2P-FdS",
        "outputId": "0bf8b836-43fe-4bc5-eb44-2488d8f8cfdf"
      },
      "outputs": [],
      "source": [
        "import plotly.express as px\n",
        "\n",
        "# Create a scatter mapbox plot\n",
        "fig = px.scatter_mapbox(cities_data, lat=\"Latitude\", lon=\"Longitude\",\n",
        "                        size=\"Population\", hover_name=\"City\", zoom=3)\n",
        "\n",
        "# Set the map style\n",
        "fig.update_layout(mapbox_style=\"open-street-map\")"
      ]
    },
    {
      "cell_type": "markdown",
      "metadata": {
        "id": "yAzh5Em2AKJY"
      },
      "source": [
        "## **3D Plot using Plotly**"
      ]
    },
    {
      "cell_type": "markdown",
      "metadata": {
        "id": "J3Fd0wNGB1bY"
      },
      "source": [
        "**Creating a new dataset**"
      ]
    },
    {
      "cell_type": "code",
      "execution_count": null,
      "metadata": {
        "colab": {
          "base_uri": "https://localhost:8080/"
        },
        "id": "G5IONmOuAMKy",
        "outputId": "17eceb36-0ccf-44bc-b925-d91cbaa0b9d8"
      },
      "outputs": [],
      "source": [
        "data = {\n",
        " 'X': np.random.rand(50) * 100, # Random values between 0 and 100\n",
        " 'Y': np.random.rand(50) * 100, # Random values between 0 and 100\n",
        " 'Z': np.random.rand(50) * 100 # Random values between 0 and 100\n",
        "}\n",
        "\n",
        "df_3d = pd.DataFrame(data)\n",
        "print(df_3d.head())"
      ]
    },
    {
      "cell_type": "markdown",
      "metadata": {
        "id": "lrARdJsyBWmm"
      },
      "source": [
        "**Displaying the 3D plot**"
      ]
    },
    {
      "cell_type": "code",
      "execution_count": null,
      "metadata": {
        "colab": {
          "base_uri": "https://localhost:8080/",
          "height": 542
        },
        "id": "SKgzTGzhAkYT",
        "outputId": "792277df-4e8a-4e73-cbae-41670885629a"
      },
      "outputs": [],
      "source": [
        "fig = go.Figure(data=[go.Scatter3d(\n",
        " x=df_3d['X'],\n",
        " y=df_3d['Y'],\n",
        " z=df_3d['Z'],\n",
        " mode='markers')])\n",
        "\n",
        "fig.update_layout(\n",
        " title='3D Scatter Plot', scene=dict(\n",
        " xaxis_title='X Axis',\n",
        " yaxis_title='Y Axis',\n",
        " zaxis_title='Z Axis')\n",
        ")"
      ]
    }
  ],
  "metadata": {
    "colab": {
      "provenance": []
    },
    "kernelspec": {
      "display_name": "base",
      "language": "python",
      "name": "python3"
    },
    "language_info": {
      "codemirror_mode": {
        "name": "ipython",
        "version": 3
      },
      "file_extension": ".py",
      "mimetype": "text/x-python",
      "name": "python",
      "nbconvert_exporter": "python",
      "pygments_lexer": "ipython3",
      "version": "3.11.9"
    }
  },
  "nbformat": 4,
  "nbformat_minor": 0
}
